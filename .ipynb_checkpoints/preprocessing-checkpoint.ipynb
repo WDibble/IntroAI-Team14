{
 "cells": [
  {
   "cell_type": "code",
   "execution_count": 1,
   "id": "d69ded03-400e-406b-a5f6-2bc62586d3c0",
   "metadata": {},
   "outputs": [
    {
     "name": "stdout",
     "output_type": "stream",
     "text": [
      "Dataframe:\n",
      "    month  day  year  hour\n",
      "0     12   25  2017    10\n",
      "1      1   15  2018    11\n",
      "Dataframe after creating Datetime as index:\n",
      "             month  day  year  hour\n",
      "2017-12-25     12   25  2017    10\n",
      "2018-01-15      1   15  2018    11\n"
     ]
    }
   ],
   "source": [
    "import pandas as pd\n",
    "\n",
    "df = pd.DataFrame([[12, 25, 2017, 10], [1, 15, 2018, 11]],\n",
    "                  columns = ['month', 'day', 'year', 'hour'])\n",
    "print(\"Dataframe:\\n\", df)\n",
    "\n",
    "df.index = pd.to_datetime(df[['month', 'day', 'year']])\n",
    "\n",
    "print(\"Dataframe after creating Datetime as index:\\n\", df)"
   ]
  },
  {
   "cell_type": "code",
   "execution_count": null,
   "id": "a7b39acb-26c6-40c4-9b8f-51f2ee677664",
   "metadata": {},
   "outputs": [],
   "source": []
  }
 ],
 "metadata": {
  "kernelspec": {
   "display_name": "Python 3 (ipykernel)",
   "language": "python",
   "name": "python3"
  },
  "language_info": {
   "codemirror_mode": {
    "name": "ipython",
    "version": 3
   },
   "file_extension": ".py",
   "mimetype": "text/x-python",
   "name": "python",
   "nbconvert_exporter": "python",
   "pygments_lexer": "ipython3",
   "version": "3.9.12"
  }
 },
 "nbformat": 4,
 "nbformat_minor": 5
}
