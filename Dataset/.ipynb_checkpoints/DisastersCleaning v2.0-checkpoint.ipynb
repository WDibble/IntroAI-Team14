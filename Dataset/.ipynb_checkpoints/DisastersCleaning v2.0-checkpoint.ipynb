{
 "cells": [
  {
   "cell_type": "code",
   "execution_count": 2,
   "id": "e7858114",
   "metadata": {},
   "outputs": [],
   "source": [
    "import pandas as pd"
   ]
  },
  {
   "cell_type": "code",
   "execution_count": 3,
   "id": "8f08d4a7",
   "metadata": {},
   "outputs": [],
   "source": [
    "import numpy as np"
   ]
  },
  {
   "cell_type": "code",
   "execution_count": 4,
   "id": "c87b5f8c",
   "metadata": {},
   "outputs": [],
   "source": [
    "import calendar"
   ]
  },
  {
   "cell_type": "code",
   "execution_count": 5,
   "id": "d67ccbad",
   "metadata": {},
   "outputs": [],
   "source": [
    "import requests\n",
    "import urllib.parse"
   ]
  },
  {
   "cell_type": "code",
   "execution_count": 6,
   "id": "b7d1803d",
   "metadata": {},
   "outputs": [],
   "source": [
    "from geopy.geocoders import Nominatim\n",
    "import time\n",
    "from pprint import pprint"
   ]
  },
  {
   "cell_type": "code",
   "execution_count": 7,
   "id": "d31708b0",
   "metadata": {},
   "outputs": [],
   "source": [
    "from geopy.geocoders import ArcGIS"
   ]
  },
  {
   "cell_type": "code",
   "execution_count": 8,
   "id": "ea6c0397",
   "metadata": {},
   "outputs": [],
   "source": [
    "app = Nominatim(user_agent=\"tutorial\")"
   ]
  },
  {
   "cell_type": "code",
   "execution_count": 25,
   "id": "339b8589",
   "metadata": {
    "scrolled": false
   },
   "outputs": [
    {
     "ename": "OSError",
     "evalue": "[Errno 22] Invalid argument: 'disasters_clean_lat_lon.csv'",
     "output_type": "error",
     "traceback": [
      "\u001b[1;31m---------------------------------------------------------------------------\u001b[0m",
      "\u001b[1;31mOSError\u001b[0m                                   Traceback (most recent call last)",
      "Cell \u001b[1;32mIn [25], line 1\u001b[0m\n\u001b[1;32m----> 1\u001b[0m df \u001b[38;5;241m=\u001b[39m pd\u001b[38;5;241m.\u001b[39mread_csv(\u001b[38;5;124m\"\u001b[39m\u001b[38;5;124mdisasters_clean_lat_lon.csv\u001b[39m\u001b[38;5;124m\"\u001b[39m)\n",
      "File \u001b[1;32m~\\AppData\\Local\\Programs\\Python\\Python39\\lib\\site-packages\\pandas\\util\\_decorators.py:211\u001b[0m, in \u001b[0;36mdeprecate_kwarg.<locals>._deprecate_kwarg.<locals>.wrapper\u001b[1;34m(*args, **kwargs)\u001b[0m\n\u001b[0;32m    209\u001b[0m     \u001b[38;5;28;01melse\u001b[39;00m:\n\u001b[0;32m    210\u001b[0m         kwargs[new_arg_name] \u001b[38;5;241m=\u001b[39m new_arg_value\n\u001b[1;32m--> 211\u001b[0m \u001b[38;5;28;01mreturn\u001b[39;00m func(\u001b[38;5;241m*\u001b[39margs, \u001b[38;5;241m*\u001b[39m\u001b[38;5;241m*\u001b[39mkwargs)\n",
      "File \u001b[1;32m~\\AppData\\Local\\Programs\\Python\\Python39\\lib\\site-packages\\pandas\\util\\_decorators.py:331\u001b[0m, in \u001b[0;36mdeprecate_nonkeyword_arguments.<locals>.decorate.<locals>.wrapper\u001b[1;34m(*args, **kwargs)\u001b[0m\n\u001b[0;32m    325\u001b[0m \u001b[38;5;28;01mif\u001b[39;00m \u001b[38;5;28mlen\u001b[39m(args) \u001b[38;5;241m>\u001b[39m num_allow_args:\n\u001b[0;32m    326\u001b[0m     warnings\u001b[38;5;241m.\u001b[39mwarn(\n\u001b[0;32m    327\u001b[0m         msg\u001b[38;5;241m.\u001b[39mformat(arguments\u001b[38;5;241m=\u001b[39m_format_argument_list(allow_args)),\n\u001b[0;32m    328\u001b[0m         \u001b[38;5;167;01mFutureWarning\u001b[39;00m,\n\u001b[0;32m    329\u001b[0m         stacklevel\u001b[38;5;241m=\u001b[39mfind_stack_level(),\n\u001b[0;32m    330\u001b[0m     )\n\u001b[1;32m--> 331\u001b[0m \u001b[38;5;28;01mreturn\u001b[39;00m func(\u001b[38;5;241m*\u001b[39margs, \u001b[38;5;241m*\u001b[39m\u001b[38;5;241m*\u001b[39mkwargs)\n",
      "File \u001b[1;32m~\\AppData\\Local\\Programs\\Python\\Python39\\lib\\site-packages\\pandas\\io\\parsers\\readers.py:950\u001b[0m, in \u001b[0;36mread_csv\u001b[1;34m(filepath_or_buffer, sep, delimiter, header, names, index_col, usecols, squeeze, prefix, mangle_dupe_cols, dtype, engine, converters, true_values, false_values, skipinitialspace, skiprows, skipfooter, nrows, na_values, keep_default_na, na_filter, verbose, skip_blank_lines, parse_dates, infer_datetime_format, keep_date_col, date_parser, dayfirst, cache_dates, iterator, chunksize, compression, thousands, decimal, lineterminator, quotechar, quoting, doublequote, escapechar, comment, encoding, encoding_errors, dialect, error_bad_lines, warn_bad_lines, on_bad_lines, delim_whitespace, low_memory, memory_map, float_precision, storage_options)\u001b[0m\n\u001b[0;32m    935\u001b[0m kwds_defaults \u001b[38;5;241m=\u001b[39m _refine_defaults_read(\n\u001b[0;32m    936\u001b[0m     dialect,\n\u001b[0;32m    937\u001b[0m     delimiter,\n\u001b[1;32m   (...)\u001b[0m\n\u001b[0;32m    946\u001b[0m     defaults\u001b[38;5;241m=\u001b[39m{\u001b[38;5;124m\"\u001b[39m\u001b[38;5;124mdelimiter\u001b[39m\u001b[38;5;124m\"\u001b[39m: \u001b[38;5;124m\"\u001b[39m\u001b[38;5;124m,\u001b[39m\u001b[38;5;124m\"\u001b[39m},\n\u001b[0;32m    947\u001b[0m )\n\u001b[0;32m    948\u001b[0m kwds\u001b[38;5;241m.\u001b[39mupdate(kwds_defaults)\n\u001b[1;32m--> 950\u001b[0m \u001b[38;5;28;01mreturn\u001b[39;00m \u001b[43m_read\u001b[49m\u001b[43m(\u001b[49m\u001b[43mfilepath_or_buffer\u001b[49m\u001b[43m,\u001b[49m\u001b[43m \u001b[49m\u001b[43mkwds\u001b[49m\u001b[43m)\u001b[49m\n",
      "File \u001b[1;32m~\\AppData\\Local\\Programs\\Python\\Python39\\lib\\site-packages\\pandas\\io\\parsers\\readers.py:605\u001b[0m, in \u001b[0;36m_read\u001b[1;34m(filepath_or_buffer, kwds)\u001b[0m\n\u001b[0;32m    602\u001b[0m _validate_names(kwds\u001b[38;5;241m.\u001b[39mget(\u001b[38;5;124m\"\u001b[39m\u001b[38;5;124mnames\u001b[39m\u001b[38;5;124m\"\u001b[39m, \u001b[38;5;28;01mNone\u001b[39;00m))\n\u001b[0;32m    604\u001b[0m \u001b[38;5;66;03m# Create the parser.\u001b[39;00m\n\u001b[1;32m--> 605\u001b[0m parser \u001b[38;5;241m=\u001b[39m TextFileReader(filepath_or_buffer, \u001b[38;5;241m*\u001b[39m\u001b[38;5;241m*\u001b[39mkwds)\n\u001b[0;32m    607\u001b[0m \u001b[38;5;28;01mif\u001b[39;00m chunksize \u001b[38;5;129;01mor\u001b[39;00m iterator:\n\u001b[0;32m    608\u001b[0m     \u001b[38;5;28;01mreturn\u001b[39;00m parser\n",
      "File \u001b[1;32m~\\AppData\\Local\\Programs\\Python\\Python39\\lib\\site-packages\\pandas\\io\\parsers\\readers.py:1442\u001b[0m, in \u001b[0;36mTextFileReader.__init__\u001b[1;34m(self, f, engine, **kwds)\u001b[0m\n\u001b[0;32m   1439\u001b[0m     \u001b[38;5;28mself\u001b[39m\u001b[38;5;241m.\u001b[39moptions[\u001b[38;5;124m\"\u001b[39m\u001b[38;5;124mhas_index_names\u001b[39m\u001b[38;5;124m\"\u001b[39m] \u001b[38;5;241m=\u001b[39m kwds[\u001b[38;5;124m\"\u001b[39m\u001b[38;5;124mhas_index_names\u001b[39m\u001b[38;5;124m\"\u001b[39m]\n\u001b[0;32m   1441\u001b[0m \u001b[38;5;28mself\u001b[39m\u001b[38;5;241m.\u001b[39mhandles: IOHandles \u001b[38;5;241m|\u001b[39m \u001b[38;5;28;01mNone\u001b[39;00m \u001b[38;5;241m=\u001b[39m \u001b[38;5;28;01mNone\u001b[39;00m\n\u001b[1;32m-> 1442\u001b[0m \u001b[38;5;28mself\u001b[39m\u001b[38;5;241m.\u001b[39m_engine \u001b[38;5;241m=\u001b[39m \u001b[38;5;28;43mself\u001b[39;49m\u001b[38;5;241;43m.\u001b[39;49m\u001b[43m_make_engine\u001b[49m\u001b[43m(\u001b[49m\u001b[43mf\u001b[49m\u001b[43m,\u001b[49m\u001b[43m \u001b[49m\u001b[38;5;28;43mself\u001b[39;49m\u001b[38;5;241;43m.\u001b[39;49m\u001b[43mengine\u001b[49m\u001b[43m)\u001b[49m\n",
      "File \u001b[1;32m~\\AppData\\Local\\Programs\\Python\\Python39\\lib\\site-packages\\pandas\\io\\parsers\\readers.py:1735\u001b[0m, in \u001b[0;36mTextFileReader._make_engine\u001b[1;34m(self, f, engine)\u001b[0m\n\u001b[0;32m   1733\u001b[0m     \u001b[38;5;28;01mif\u001b[39;00m \u001b[38;5;124m\"\u001b[39m\u001b[38;5;124mb\u001b[39m\u001b[38;5;124m\"\u001b[39m \u001b[38;5;129;01mnot\u001b[39;00m \u001b[38;5;129;01min\u001b[39;00m mode:\n\u001b[0;32m   1734\u001b[0m         mode \u001b[38;5;241m+\u001b[39m\u001b[38;5;241m=\u001b[39m \u001b[38;5;124m\"\u001b[39m\u001b[38;5;124mb\u001b[39m\u001b[38;5;124m\"\u001b[39m\n\u001b[1;32m-> 1735\u001b[0m \u001b[38;5;28mself\u001b[39m\u001b[38;5;241m.\u001b[39mhandles \u001b[38;5;241m=\u001b[39m \u001b[43mget_handle\u001b[49m\u001b[43m(\u001b[49m\n\u001b[0;32m   1736\u001b[0m \u001b[43m    \u001b[49m\u001b[43mf\u001b[49m\u001b[43m,\u001b[49m\n\u001b[0;32m   1737\u001b[0m \u001b[43m    \u001b[49m\u001b[43mmode\u001b[49m\u001b[43m,\u001b[49m\n\u001b[0;32m   1738\u001b[0m \u001b[43m    \u001b[49m\u001b[43mencoding\u001b[49m\u001b[38;5;241;43m=\u001b[39;49m\u001b[38;5;28;43mself\u001b[39;49m\u001b[38;5;241;43m.\u001b[39;49m\u001b[43moptions\u001b[49m\u001b[38;5;241;43m.\u001b[39;49m\u001b[43mget\u001b[49m\u001b[43m(\u001b[49m\u001b[38;5;124;43m\"\u001b[39;49m\u001b[38;5;124;43mencoding\u001b[39;49m\u001b[38;5;124;43m\"\u001b[39;49m\u001b[43m,\u001b[49m\u001b[43m \u001b[49m\u001b[38;5;28;43;01mNone\u001b[39;49;00m\u001b[43m)\u001b[49m\u001b[43m,\u001b[49m\n\u001b[0;32m   1739\u001b[0m \u001b[43m    \u001b[49m\u001b[43mcompression\u001b[49m\u001b[38;5;241;43m=\u001b[39;49m\u001b[38;5;28;43mself\u001b[39;49m\u001b[38;5;241;43m.\u001b[39;49m\u001b[43moptions\u001b[49m\u001b[38;5;241;43m.\u001b[39;49m\u001b[43mget\u001b[49m\u001b[43m(\u001b[49m\u001b[38;5;124;43m\"\u001b[39;49m\u001b[38;5;124;43mcompression\u001b[39;49m\u001b[38;5;124;43m\"\u001b[39;49m\u001b[43m,\u001b[49m\u001b[43m \u001b[49m\u001b[38;5;28;43;01mNone\u001b[39;49;00m\u001b[43m)\u001b[49m\u001b[43m,\u001b[49m\n\u001b[0;32m   1740\u001b[0m \u001b[43m    \u001b[49m\u001b[43mmemory_map\u001b[49m\u001b[38;5;241;43m=\u001b[39;49m\u001b[38;5;28;43mself\u001b[39;49m\u001b[38;5;241;43m.\u001b[39;49m\u001b[43moptions\u001b[49m\u001b[38;5;241;43m.\u001b[39;49m\u001b[43mget\u001b[49m\u001b[43m(\u001b[49m\u001b[38;5;124;43m\"\u001b[39;49m\u001b[38;5;124;43mmemory_map\u001b[39;49m\u001b[38;5;124;43m\"\u001b[39;49m\u001b[43m,\u001b[49m\u001b[43m \u001b[49m\u001b[38;5;28;43;01mFalse\u001b[39;49;00m\u001b[43m)\u001b[49m\u001b[43m,\u001b[49m\n\u001b[0;32m   1741\u001b[0m \u001b[43m    \u001b[49m\u001b[43mis_text\u001b[49m\u001b[38;5;241;43m=\u001b[39;49m\u001b[43mis_text\u001b[49m\u001b[43m,\u001b[49m\n\u001b[0;32m   1742\u001b[0m \u001b[43m    \u001b[49m\u001b[43merrors\u001b[49m\u001b[38;5;241;43m=\u001b[39;49m\u001b[38;5;28;43mself\u001b[39;49m\u001b[38;5;241;43m.\u001b[39;49m\u001b[43moptions\u001b[49m\u001b[38;5;241;43m.\u001b[39;49m\u001b[43mget\u001b[49m\u001b[43m(\u001b[49m\u001b[38;5;124;43m\"\u001b[39;49m\u001b[38;5;124;43mencoding_errors\u001b[39;49m\u001b[38;5;124;43m\"\u001b[39;49m\u001b[43m,\u001b[49m\u001b[43m \u001b[49m\u001b[38;5;124;43m\"\u001b[39;49m\u001b[38;5;124;43mstrict\u001b[39;49m\u001b[38;5;124;43m\"\u001b[39;49m\u001b[43m)\u001b[49m\u001b[43m,\u001b[49m\n\u001b[0;32m   1743\u001b[0m \u001b[43m    \u001b[49m\u001b[43mstorage_options\u001b[49m\u001b[38;5;241;43m=\u001b[39;49m\u001b[38;5;28;43mself\u001b[39;49m\u001b[38;5;241;43m.\u001b[39;49m\u001b[43moptions\u001b[49m\u001b[38;5;241;43m.\u001b[39;49m\u001b[43mget\u001b[49m\u001b[43m(\u001b[49m\u001b[38;5;124;43m\"\u001b[39;49m\u001b[38;5;124;43mstorage_options\u001b[39;49m\u001b[38;5;124;43m\"\u001b[39;49m\u001b[43m,\u001b[49m\u001b[43m \u001b[49m\u001b[38;5;28;43;01mNone\u001b[39;49;00m\u001b[43m)\u001b[49m\u001b[43m,\u001b[49m\n\u001b[0;32m   1744\u001b[0m \u001b[43m\u001b[49m\u001b[43m)\u001b[49m\n\u001b[0;32m   1745\u001b[0m \u001b[38;5;28;01massert\u001b[39;00m \u001b[38;5;28mself\u001b[39m\u001b[38;5;241m.\u001b[39mhandles \u001b[38;5;129;01mis\u001b[39;00m \u001b[38;5;129;01mnot\u001b[39;00m \u001b[38;5;28;01mNone\u001b[39;00m\n\u001b[0;32m   1746\u001b[0m f \u001b[38;5;241m=\u001b[39m \u001b[38;5;28mself\u001b[39m\u001b[38;5;241m.\u001b[39mhandles\u001b[38;5;241m.\u001b[39mhandle\n",
      "File \u001b[1;32m~\\AppData\\Local\\Programs\\Python\\Python39\\lib\\site-packages\\pandas\\io\\common.py:856\u001b[0m, in \u001b[0;36mget_handle\u001b[1;34m(path_or_buf, mode, encoding, compression, memory_map, is_text, errors, storage_options)\u001b[0m\n\u001b[0;32m    851\u001b[0m \u001b[38;5;28;01melif\u001b[39;00m \u001b[38;5;28misinstance\u001b[39m(handle, \u001b[38;5;28mstr\u001b[39m):\n\u001b[0;32m    852\u001b[0m     \u001b[38;5;66;03m# Check whether the filename is to be opened in binary mode.\u001b[39;00m\n\u001b[0;32m    853\u001b[0m     \u001b[38;5;66;03m# Binary mode does not support 'encoding' and 'newline'.\u001b[39;00m\n\u001b[0;32m    854\u001b[0m     \u001b[38;5;28;01mif\u001b[39;00m ioargs\u001b[38;5;241m.\u001b[39mencoding \u001b[38;5;129;01mand\u001b[39;00m \u001b[38;5;124m\"\u001b[39m\u001b[38;5;124mb\u001b[39m\u001b[38;5;124m\"\u001b[39m \u001b[38;5;129;01mnot\u001b[39;00m \u001b[38;5;129;01min\u001b[39;00m ioargs\u001b[38;5;241m.\u001b[39mmode:\n\u001b[0;32m    855\u001b[0m         \u001b[38;5;66;03m# Encoding\u001b[39;00m\n\u001b[1;32m--> 856\u001b[0m         handle \u001b[38;5;241m=\u001b[39m \u001b[38;5;28;43mopen\u001b[39;49m\u001b[43m(\u001b[49m\n\u001b[0;32m    857\u001b[0m \u001b[43m            \u001b[49m\u001b[43mhandle\u001b[49m\u001b[43m,\u001b[49m\n\u001b[0;32m    858\u001b[0m \u001b[43m            \u001b[49m\u001b[43mioargs\u001b[49m\u001b[38;5;241;43m.\u001b[39;49m\u001b[43mmode\u001b[49m\u001b[43m,\u001b[49m\n\u001b[0;32m    859\u001b[0m \u001b[43m            \u001b[49m\u001b[43mencoding\u001b[49m\u001b[38;5;241;43m=\u001b[39;49m\u001b[43mioargs\u001b[49m\u001b[38;5;241;43m.\u001b[39;49m\u001b[43mencoding\u001b[49m\u001b[43m,\u001b[49m\n\u001b[0;32m    860\u001b[0m \u001b[43m            \u001b[49m\u001b[43merrors\u001b[49m\u001b[38;5;241;43m=\u001b[39;49m\u001b[43merrors\u001b[49m\u001b[43m,\u001b[49m\n\u001b[0;32m    861\u001b[0m \u001b[43m            \u001b[49m\u001b[43mnewline\u001b[49m\u001b[38;5;241;43m=\u001b[39;49m\u001b[38;5;124;43m\"\u001b[39;49m\u001b[38;5;124;43m\"\u001b[39;49m\u001b[43m,\u001b[49m\n\u001b[0;32m    862\u001b[0m \u001b[43m        \u001b[49m\u001b[43m)\u001b[49m\n\u001b[0;32m    863\u001b[0m     \u001b[38;5;28;01melse\u001b[39;00m:\n\u001b[0;32m    864\u001b[0m         \u001b[38;5;66;03m# Binary mode\u001b[39;00m\n\u001b[0;32m    865\u001b[0m         handle \u001b[38;5;241m=\u001b[39m \u001b[38;5;28mopen\u001b[39m(handle, ioargs\u001b[38;5;241m.\u001b[39mmode)\n",
      "\u001b[1;31mOSError\u001b[0m: [Errno 22] Invalid argument: 'disasters_clean_lat_lon.csv'"
     ]
    }
   ],
   "source": [
    "df = pd.read_csv(\"disasters_clean_lat_lon.csv\")"
   ]
  },
  {
   "cell_type": "code",
   "execution_count": 11,
   "id": "dde4a257",
   "metadata": {},
   "outputs": [],
   "source": [
    "pd.set_option('display.max_columns', None)"
   ]
  },
  {
   "cell_type": "code",
   "execution_count": 14,
   "id": "7a568cf3",
   "metadata": {},
   "outputs": [],
   "source": [
    "df = df.interpolate(method=\"polynomial\",order=2)"
   ]
  },
  {
   "cell_type": "code",
   "execution_count": 20,
   "id": "ad0942e4",
   "metadata": {},
   "outputs": [],
   "source": [
    "# Linearly interpolate numeric columns\n",
    "# Linearly interpolate numeric columns\n",
    "numeric = df[['Start Day', 'Start Month', 'End Day', 'End Month', 'CPI','Total Affected', 'No Homeless', 'No Affected', 'No Injured', 'Total Deaths']]\n",
    "numeric_columns = numeric.columns\n",
    "\n",
    "df[numeric_columns] = df[numeric_columns].interpolate(method='linear',limit_direction='forward')\n",
    "\n",
    "# Calculate the median and interquartile range of the date columns\n",
    "start_month_median = df['Start Month'].median()\n",
    "start_month_iqr = df['Start Month'].quantile(0.75) - df['Start Month'].quantile(0.25)\n",
    "\n",
    "start_day_median = df['Start Day'].median()\n",
    "start_day_iqr = df['Start Day'].quantile(0.75) - df['Start Day'].quantile(0.25)\n",
    "\n",
    "end_month_median = df['End Month'].median()\n",
    "end_month_iqr = df['End Month'].quantile(0.75) - df['End Month'].quantile(0.25)\n",
    "\n",
    "end_day_median = df['End Day'].median()\n",
    "end_day_iqr = df['End Day'].quantile(0.75) - df['End Day'].quantile(0.25)\n",
    "\n",
    "# Calculate the median and interquartile range of the numeric columns\n",
    "\n",
    "total_affected_median = df['Total Affected'].median()\n",
    "total_affected_iqr = df['Total Affected'].quantile(0.75) - df['Total Affected'].quantile(0.25)\n",
    "\n",
    "no_homeless_median = df['No Homeless'].median()\n",
    "no_homeless_iqr = df['No Homeless'].quantile(0.75) - df['No Homeless'].quantile(0.25)\n",
    "\n",
    "no_affected_median = df['No Affected'].median()\n",
    "no_affected_iqr = df['No Affected'].quantile(0.75) - df['No Affected'].quantile(0.25)\n",
    "\n",
    "no_injured_median = df['No Injured'].median()\n",
    "no_injured_iqr = df['No Injured'].quantile(0.75) - df['No Injured'].quantile(0.25)\n",
    "\n",
    "total_deaths_median = df['Total Deaths'].median()\n",
    "total_deaths_iqr = df['Total Deaths'].quantile(0.75) - df['Total Deaths'].quantile(0.25)\n",
    "\n",
    "# Replace any outliers with the median and interquartile range\n",
    "df['Start Month'] = df['Start Month'].apply(lambda x: start_month_median if x > start_month_median + start_month_iqr * 1.5 or x < start_month_median - start_month_iqr * 1.5 else x)\n",
    "df['Start Day'] = df['Start Day'].apply(lambda x: start_day_median if x > start_day_median + start_day_iqr * 1.5 or x < start_day_median - start_day_iqr * 1.5 else x)\n",
    "df['End Month'] = df['End Month'].apply(lambda x: end_month_median if x > end_month_median + end_month_iqr * 1.5 or x < end_month_median - end_month_iqr * 1.5 else x)\n",
    "df['End Day'] = df['End Day'].apply(lambda x: end_day_median if x > end_day_median + end_day_iqr * 1.5 or x < end_day_median - end_day_iqr * 1.5 else x)\n",
    "\n",
    "df['Total Affected'] = df['Total Affected'].apply(lambda x: total_affected_median if x > total_affected_median + total_affected_iqr * 1.5 or x < total_affected_median - total_affected_iqr * 1.5 else x)\n",
    "df['No Homeless'] = df['No Homeless'].apply(lambda x: no_homeless_median if x > no_homeless_median + no_homeless_iqr * 1.5 or x < no_homeless_median - no_homeless_iqr * 1.5 else x)\n",
    "df['No Affected'] = df['No Affected'].apply(lambda x: no_affected_median if x > no_affected_median + no_affected_iqr * 1.5 or x < no_affected_median - no_affected_iqr * 1.5 else x)\n",
    "df['No Injured'] = df['No Injured'].apply(lambda x: no_injured_median if x > no_injured_median + no_injured_iqr * 1.5 or x < no_injured_median - no_injured_iqr * 1.5 else x)\n",
    "df['Total Deaths'] = df['Total Deaths'].apply(lambda x: total_deaths_median if x > total_deaths_median + total_deaths_iqr * 1.5 or x < total_deaths_median - total_deaths_iqr * 1.5 else x)\n",
    "\n",
    "# Replace infinite values with the median and interquartile range\n",
    "df['Start Month'] = df['Start Month'].apply(lambda x: start_month_median if np.isinf(x) else x)\n",
    "df['Start Day'] = df['Start Day'].apply(lambda x: start_day_median if np.isinf(x) else x)\n",
    "df['End Month'] = df['End Month'].apply(lambda x: end_month_median if np.isinf(x) else x)\n",
    "df['End Day'] = df['End Day'].apply(lambda x: end_day_median if np.isinf(x) else x)\n",
    "\n",
    "df['Total Affected'] = df['Total Affected'].apply(lambda x: total_affected_median if np.isinf(x) else x)\n",
    "df['No Homeless'] = df['No Homeless'].apply(lambda x: no_homeless_median if np.isinf(x) else x)\n",
    "df['No Affected'] = df['No Affected'].apply(lambda x: no_affected_median if np.isinf(x) else x)\n",
    "df['No Injured'] = df['No Injured'].apply(lambda x: no_injured_median if np.isinf(x) else x)\n",
    "df['Total Deaths'] = df['Total Deaths'].apply(lambda x: total_deaths_median if np.isinf(x) else x)\n",
    "\n",
    "# Replace non-finite values with the median and interquartile range\n",
    "df['Start Month'] = df['Start Month'].apply(lambda x: start_month_median if not np.isfinite(x) else x)\n",
    "df['Start Day'] = df['Start Day'].apply(lambda x: start_day_median if not np.isfinite(x) else x)\n",
    "df['End Month'] = df['End Month'].apply(lambda x: end_month_median if not np.isfinite(x) else x)\n",
    "df['End Day'] = df['End Day'].apply(lambda x: end_day_median if not np.isfinite(x) else x)\n",
    "\n",
    "df['Total Affected'] = df['Total Affected'].apply(lambda x: total_affected_median if not np.isfinite(x) else x)\n",
    "df['No Homeless'] = df['No Homeless'].apply(lambda x: no_homeless_median if not np.isfinite(x) else x)\n",
    "df['No Affected'] = df['No Affected'].apply(lambda x: no_affected_median if not np.isfinite(x) else x)\n",
    "df['No Injured'] = df['No Injured'].apply(lambda x: no_injured_median if not np.isfinite(x) else x)\n",
    "df['Total Deaths'] = df['Total Deaths'].apply(lambda x: total_deaths_median if not np.isfinite(x) else x)\n",
    "\n",
    "# Throw away fractorial parts with a cast to int\n",
    "df[\n",
    "    ['Start Year','Start Month','Start Day',\n",
    "     'End Year','End Month','End Day',\n",
    "     'Total Affected',\n",
    "     'No Homeless','No Affected','No Injured',\n",
    "     'Total Deaths'\n",
    "    ]\n",
    "] = df[\n",
    "    ['Start Year','Start Month','Start Day',\n",
    "     'End Year','End Month','End Day',\n",
    "     'Total Affected',\n",
    "     'No Homeless','No Affected','No Injured',\n",
    "     'Total Deaths'\n",
    "    ]\n",
    "].astype(np.int64)\n",
    "\n",
    "# Check if the day is out of range for the given month, and if it is, increment the month by 1 and set the day to 1\n",
    "def check_start_date_validity(row):\n",
    "    # Get the year, month, and day\n",
    "    year = row['Start Year']\n",
    "    month = row['Start Month']\n",
    "    day = row['Start Day']\n",
    "    # Check if the month is February\n",
    "    if month == 2:\n",
    "        # Check if the day is greater than 28\n",
    "        if day > 28:\n",
    "            # Set the day to 1\n",
    "            row['Start Day'] = 1\n",
    "            # Increment the month by 1\n",
    "            row['Start Month'] += 1\n",
    "    else:\n",
    "        # Get the days in the month\n",
    "        days_in_month = calendar.monthrange(year, month)[1]\n",
    "        # Check if the day is greater than the days in the month\n",
    "        if day > days_in_month:\n",
    "            # Set the day to 1\n",
    "            row['Start Day'] = 1\n",
    "            # Increment the month by 1\n",
    "            row['Start Month'] += 1\n",
    "            # Check if the month is greater than 12\n",
    "            if row['Start Month'] > 12:\n",
    "                # Set the month to 1\n",
    "                row['Start Month'] = 1\n",
    "                # Increment the year by 1\n",
    "                row['Start Year'] += 1\n",
    "    # Return the row\n",
    "    return row\n",
    "\n",
    "def check_end_date_validity(row):\n",
    "    # Get the year, month, and day\n",
    "    year = row['End Year']\n",
    "    month = row['End Month']\n",
    "    day = row['End Day']\n",
    "    # Check if the month is February\n",
    "    if month == 2:\n",
    "        # Check if the day is greater than 28\n",
    "        if day > 28:\n",
    "            # Set the day to 1\n",
    "            row['End Day'] = 1\n",
    "            # Increment the month by 1\n",
    "            row['End Month'] += 1\n",
    "    else:\n",
    "        # Get the days in the month\n",
    "        days_in_month = calendar.monthrange(year, month)[1]\n",
    "        # Check if the day is greater than the days in the month\n",
    "        if day > days_in_month:\n",
    "            # Set the day to 1\n",
    "            row['End Day'] = 1\n",
    "            # Increment the month by 1\n",
    "            row['End Month'] += 1\n",
    "            # Check if the month is greater than 12\n",
    "            if row['End Month'] > 12:\n",
    "                # Set the month to 1\n",
    "                row['End Month'] = 1\n",
    "                # Increment the year by 1\n",
    "                row['End Year'] += 1\n",
    "    # Return the row\n",
    "    return row\n",
    "\n",
    "# Apply the function to the dataframe\n",
    "df[['Start Year','Start Month','Start Day']] = df[['Start Year','Start Month','Start Day']].apply(check_start_date_validity, axis=1)\n",
    "df[['End Year','End Month','End Day']] = df[['End Year','End Month','End Day']].apply(check_end_date_validity, axis=1)"
   ]
  },
  {
   "cell_type": "code",
   "execution_count": 20,
   "id": "48f2e225",
   "metadata": {},
   "outputs": [],
   "source": [
    "df = df[\"Total Damages ('000 US$)\"].interpolate(method=\"linear\")"
   ]
  },
  {
   "cell_type": "code",
   "execution_count": 22,
   "id": "ce49cba0",
   "metadata": {
    "scrolled": true
   },
   "outputs": [
    {
     "data": {
      "text/plain": [
       "0               NaN\n",
       "1      25000.000000\n",
       "2      25000.000000\n",
       "3      25000.000000\n",
       "4      25000.000000\n",
       "5      25000.000000\n",
       "6     100000.000000\n",
       "7      80000.000000\n",
       "8      60000.000000\n",
       "9      40000.000000\n",
       "10     20000.000000\n",
       "11     18846.153846\n",
       "12     17692.307692\n",
       "13     16538.461538\n",
       "14     15384.615385\n",
       "Name: Total Damages ('000 US$), dtype: float64"
      ]
     },
     "metadata": {},
     "output_type": "display_data"
    }
   ],
   "source": [
    "display(df.head(15))"
   ]
  },
  {
   "cell_type": "code",
   "execution_count": 22,
   "id": "e9571406",
   "metadata": {},
   "outputs": [],
   "source": [
    "df.to_csv(\"disasters_clean.csv\", index = True)"
   ]
  }
 ],
 "metadata": {
  "kernelspec": {
   "display_name": "Python 3 (ipykernel)",
   "language": "python",
   "name": "python3"
  },
  "language_info": {
   "codemirror_mode": {
    "name": "ipython",
    "version": 3
   },
   "file_extension": ".py",
   "mimetype": "text/x-python",
   "name": "python",
   "nbconvert_exporter": "python",
   "pygments_lexer": "ipython3",
   "version": "3.9.13"
  }
 },
 "nbformat": 4,
 "nbformat_minor": 5
}
